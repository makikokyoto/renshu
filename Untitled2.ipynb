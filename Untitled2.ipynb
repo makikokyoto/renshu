{
  "nbformat": 4,
  "nbformat_minor": 0,
  "metadata": {
    "colab": {
      "provenance": [],
      "authorship_tag": "ABX9TyMsbXti4Y7iqYa/4Alyy9dY",
      "include_colab_link": true
    },
    "kernelspec": {
      "name": "python3",
      "display_name": "Python 3"
    },
    "language_info": {
      "name": "python"
    }
  },
  "cells": [
    {
      "cell_type": "markdown",
      "metadata": {
        "id": "view-in-github",
        "colab_type": "text"
      },
      "source": [
        "<a href=\"https://colab.research.google.com/github/makikokyoto/renshu/blob/main/Untitled2.ipynb\" target=\"_parent\"><img src=\"https://colab.research.google.com/assets/colab-badge.svg\" alt=\"Open In Colab\"/></a>"
      ]
    },
    {
      "cell_type": "code",
      "execution_count": 2,
      "metadata": {
        "colab": {
          "base_uri": "https://localhost:8080/"
        },
        "id": "VrvN4IPJcHLO",
        "outputId": "79e109e4-3f95-43ac-e924-2b7ae2373761"
      },
      "outputs": [
        {
          "output_type": "stream",
          "name": "stdout",
          "text": [
            "Your name  makiko\n",
            "Hello, makiko !\n"
          ]
        }
      ],
      "source": [
        "name =input(\"Your name  \")\n",
        "print(\"Hello,\",  name,\"!\")\n"
      ]
    },
    {
      "cell_type": "code",
      "source": [
        "def greet(name):\n",
        "    return f\"こんにちは、{name}さん！\"\n",
        "\n",
        "print(greet(\"太郎\"))"
      ],
      "metadata": {
        "colab": {
          "base_uri": "https://localhost:8080/"
        },
        "id": "trurDwIVde1y",
        "outputId": "680f65b3-a761-450e-c49a-b31b1cd2fe56"
      },
      "execution_count": null,
      "outputs": [
        {
          "output_type": "stream",
          "name": "stdout",
          "text": [
            "こんにちは、太郎さん！\n"
          ]
        }
      ]
    }
  ]
}